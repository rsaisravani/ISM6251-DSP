{
 "cells": [
  {
   "cell_type": "markdown",
   "id": "f40ec2ce-4ed7-4f00-ba8c-16296ddc57c3",
   "metadata": {},
   "source": [
    "## ICP WEEK 1\n",
    "\n",
    "## Sai Sravani Nalamalpu\n",
    "\n",
    "This is the first in class assignment"
   ]
  },
  {
   "cell_type": "markdown",
   "id": "f691f353-3610-44fe-81b6-0338564dfc3a",
   "metadata": {},
   "source": [
    "## Introduction\n",
    "\n",
    "![Heya! No internet connection?](sravani.jfif)\n",
    "\n",
    "This is Sai Sravani. You can call me as Sai and i am from India. Currently i am in my second semester in Business Analytics and Information system course Masters program here at USF. I completed my undergraduation in Electronics and communication engineering course and then worked as a QA Automation engineer in TCS for 2.6 years for Morgan Stanley client."
   ]
  },
  {
   "cell_type": "code",
   "execution_count": null,
   "id": "36f9b381-1f94-44a7-8c02-e714d5b6170c",
   "metadata": {},
   "outputs": [],
   "source": []
  }
 ],
 "metadata": {
  "kernelspec": {
   "display_name": "Python 3 (ipykernel)",
   "language": "python",
   "name": "python3"
  },
  "language_info": {
   "codemirror_mode": {
    "name": "ipython",
    "version": 3
   },
   "file_extension": ".py",
   "mimetype": "text/x-python",
   "name": "python",
   "nbconvert_exporter": "python",
   "pygments_lexer": "ipython3",
   "version": "3.9.12"
  }
 },
 "nbformat": 4,
 "nbformat_minor": 5
}
