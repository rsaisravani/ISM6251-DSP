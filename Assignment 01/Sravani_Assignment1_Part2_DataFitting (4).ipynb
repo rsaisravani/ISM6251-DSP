{
 "cells": [
  {
   "cell_type": "code",
   "execution_count": 14,
   "id": "79c88341-56eb-4907-801a-ac7aad7601e2",
   "metadata": {},
   "outputs": [],
   "source": [
    "#Here we import any Python libraries that we plan to use\n",
    "import numpy as np\n",
    "import pandas as pd\n",
    "import matplotlib.pyplot as plt\n",
    "from sklearn.preprocessing import StandardScaler, LabelEncoder\n",
    "from sklearn.linear_model import Ridge\n",
    "from sklearn.model_selection import train_test_split\n",
    "from sklearn import preprocessing\n",
    "from sklearn.impute import SimpleImputer\n",
    "from sklearn.metrics import mean_squared_error\n",
    "from sklearn.linear_model import SGDRegressor \n",
    "from sklearn.dummy import DummyRegressor\n",
    "from sklearn.metrics import confusion_matrix\n",
    "from sklearn.metrics import mean_squared_error, mean_absolute_error, r2_score\n",
    "from sklearn.linear_model import LinearRegression\n",
    "from sklearn.pipeline import make_pipeline\n",
    "from sklearn.preprocessing import PolynomialFeatures"
   ]
  },
  {
   "cell_type": "code",
   "execution_count": 15,
   "id": "a82e9cac-5042-41a6-b8f4-5a6ec3953c46",
   "metadata": {},
   "outputs": [],
   "source": [
    "# set random seed to ensure that results are repeatable\n",
    "np.random.seed(1)"
   ]
  },
  {
   "cell_type": "code",
   "execution_count": 16,
   "id": "c2de2926-0504-4df9-ac11-da92dfb81218",
   "metadata": {},
   "outputs": [],
   "source": [
    "#load the cleaned data\n",
    "\n",
    "X_train = pd.read_csv(\"kc_house_data_X_train.csv\")\n",
    "\n",
    "X_test = pd.read_csv(\"kc_house_data_X_test.csv\")\n",
    "\n",
    "y_train = pd.read_csv(\"kc_house_data_y_train.csv\")\n",
    "\n",
    "y_test = pd.read_csv(\"kc_house_data_y_test.csv\")"
   ]
  },
  {
   "cell_type": "markdown",
   "id": "83d8124c-5c03-4279-bb96-62f302eb9ff8",
   "metadata": {},
   "source": [
    "# 7.0 Fitting Models the data"
   ]
  },
  {
   "cell_type": "markdown",
   "id": "e05aee71-9895-428d-9780-cf5f5664461a",
   "metadata": {},
   "source": [
    "### As we selected price as the target variable, regression modeling would provide the best results and house price prediction. Because the target variable price includes continuous values, we are unable to choose classification models. Instead, depending on the data set we have chosen, we select MSC, RMSE, and R-Squared as performance measures. This dataset includes details on King County home sales, including attributes like square footage, location, and the number of bedrooms and bathrooms. The top performance measures that may be utilized to develop a model to forecast home prices using this dataset are MSC, RMSE, and R-Squared."
   ]
  },
  {
   "cell_type": "markdown",
   "id": "11f534f7-072e-43b5-ba49-1a6bf731d740",
   "metadata": {},
   "source": [
    "7.1 Fit and test a Linear Regression Using Stochastic Gradient Descent"
   ]
  },
  {
   "cell_type": "code",
   "execution_count": 17,
   "id": "a1d873c2-0527-46a6-bb99-41bdf71cc09a",
   "metadata": {},
   "outputs": [
    {
     "name": "stdout",
     "output_type": "stream",
     "text": [
      "MSE: 45729427451.15249\n",
      "RMSE: 213844.40009304075\n",
      "R-squared: 0.6975101074201431\n"
     ]
    },
    {
     "name": "stderr",
     "output_type": "stream",
     "text": [
      "C:\\Users\\User\\anaconda3\\lib\\site-packages\\sklearn\\utils\\validation.py:993: DataConversionWarning: A column-vector y was passed when a 1d array was expected. Please change the shape of y to (n_samples, ), for example using ravel().\n",
      "  y = column_or_1d(y, warn=True)\n"
     ]
    }
   ],
   "source": [
    "# create an instance of the SGDRegressor class\n",
    "reg = SGDRegressor(max_iter=1000, tol=1e-3, alpha=0.01, random_state=42)\n",
    "\n",
    "# fit the model on the training data\n",
    "reg.fit(X_train, y_train)\n",
    "\n",
    "# make predictions on the test data\n",
    "y_pred = reg.predict(X_test)\n",
    "\n",
    "# evaluate the model using RMSE and R-squared metrics\n",
    "mse = mean_squared_error(y_test, y_pred)\n",
    "rmse = mean_squared_error(y_test, y_pred, squared=False)\n",
    "r2 = r2_score(y_test, y_pred)\n",
    "\n",
    "print('MSE:', mse)\n",
    "print(\"RMSE:\", rmse)\n",
    "print(\"R-squared:\", r2)"
   ]
  },
  {
   "cell_type": "markdown",
   "id": "3a6b57eb-2f13-4297-9dbf-d91be74d7fa7",
   "metadata": {},
   "source": [
    "7.2 Fit and test SGDRegression using L2 Regularization"
   ]
  },
  {
   "cell_type": "code",
   "execution_count": 18,
   "id": "0f0adc0c-f8bf-4993-a355-6bffeb4fecb7",
   "metadata": {},
   "outputs": [
    {
     "name": "stdout",
     "output_type": "stream",
     "text": [
      "MSE: 45729427451.15249\n",
      "RMSE: 213844.40009304075\n",
      "R-squared: 0.6975101074201431\n"
     ]
    },
    {
     "name": "stderr",
     "output_type": "stream",
     "text": [
      "C:\\Users\\User\\anaconda3\\lib\\site-packages\\sklearn\\utils\\validation.py:993: DataConversionWarning: A column-vector y was passed when a 1d array was expected. Please change the shape of y to (n_samples, ), for example using ravel().\n",
      "  y = column_or_1d(y, warn=True)\n"
     ]
    }
   ],
   "source": [
    "# create an instance of the SGDRegressor class with L2 regularization\n",
    "reg = SGDRegressor(max_iter=1000, tol=1e-3, alpha=0.01, penalty='l2', random_state=42)\n",
    "\n",
    "# fit the model on the training data\n",
    "reg.fit(X_train, y_train)\n",
    "\n",
    "# make predictions on the test data\n",
    "y_pred = reg.predict(X_test)\n",
    "\n",
    "# evaluate the model using RMSE and R-squared metrics\n",
    "mse = mean_squared_error(y_test, y_pred)\n",
    "rmse = mean_squared_error(y_test, y_pred, squared=False)\n",
    "r2 = r2_score(y_test, y_pred)\n",
    "\n",
    "print('MSE:', mse)\n",
    "print(\"RMSE:\", rmse)\n",
    "print(\"R-squared:\", r2)"
   ]
  },
  {
   "cell_type": "markdown",
   "id": "590de1a9-a3b0-4880-8972-4ade1971eaa6",
   "metadata": {},
   "source": [
    "7.3 Fit and test SGDRegression Using L1 Regularization"
   ]
  },
  {
   "cell_type": "code",
   "execution_count": 19,
   "id": "e6471ac2-df06-41a1-aa20-34175ffc18a2",
   "metadata": {},
   "outputs": [
    {
     "name": "stdout",
     "output_type": "stream",
     "text": [
      "MSE: 45664161353.02602\n",
      "RMSE: 213691.7437642971\n",
      "R-squared: 0.6979418280016543\n"
     ]
    },
    {
     "name": "stderr",
     "output_type": "stream",
     "text": [
      "C:\\Users\\User\\anaconda3\\lib\\site-packages\\sklearn\\utils\\validation.py:993: DataConversionWarning: A column-vector y was passed when a 1d array was expected. Please change the shape of y to (n_samples, ), for example using ravel().\n",
      "  y = column_or_1d(y, warn=True)\n"
     ]
    }
   ],
   "source": [
    "# create an instance of the SGDRegressor class with L1 regularization\n",
    "reg = SGDRegressor(max_iter=1000, tol=1e-3, alpha=0.01, penalty='l1', random_state=42)\n",
    "\n",
    "# fit the model on the training data\n",
    "reg.fit(X_train, y_train)\n",
    "\n",
    "# make predictions on the test data\n",
    "y_pred = reg.predict(X_test)\n",
    "\n",
    "# evaluate the model using RMSE and R-squared metrics\n",
    "mse = mean_squared_error(y_test, y_pred)\n",
    "rmse = mean_squared_error(y_test, y_pred, squared=False)\n",
    "r2 = r2_score(y_test, y_pred)\n",
    "\n",
    "print('MSE:', mse)\n",
    "print(\"RMSE:\", rmse)\n",
    "print(\"R-squared:\", r2)"
   ]
  },
  {
   "cell_type": "markdown",
   "id": "25183b52-abc2-487d-a48b-bbf70b4b9b78",
   "metadata": {},
   "source": [
    "7.4 Fit and test SGDRegression using ElasticNet Regularization"
   ]
  },
  {
   "cell_type": "code",
   "execution_count": 20,
   "id": "730cf5c2-31d5-448d-b09d-ae0b8e22558a",
   "metadata": {},
   "outputs": [
    {
     "name": "stdout",
     "output_type": "stream",
     "text": [
      "MSE: 45719010762.441444\n",
      "RMSE: 213820.0429390132\n",
      "R-squared: 0.6975790114765651\n"
     ]
    },
    {
     "name": "stderr",
     "output_type": "stream",
     "text": [
      "C:\\Users\\User\\anaconda3\\lib\\site-packages\\sklearn\\utils\\validation.py:993: DataConversionWarning: A column-vector y was passed when a 1d array was expected. Please change the shape of y to (n_samples, ), for example using ravel().\n",
      "  y = column_or_1d(y, warn=True)\n"
     ]
    }
   ],
   "source": [
    "# create an instance of the SGDRegressor with Elastic Net regularization:\n",
    "reg = SGDRegressor(max_iter=1000, tol=1e-3, alpha=0.01, penalty='elasticnet', random_state=42)\n",
    "\n",
    "# fit the model on the training data\n",
    "reg.fit(X_train, y_train)\n",
    "\n",
    "# make predictions on the test data\n",
    "y_pred = reg.predict(X_test)\n",
    "\n",
    "# evaluate the model using RMSE and R-squared metrics\n",
    "mse = mean_squared_error(y_test, y_pred)\n",
    "rmse = mean_squared_error(y_test, y_pred, squared=False)\n",
    "r2 = r2_score(y_test, y_pred)\n",
    "\n",
    "print('MSE:', mse)\n",
    "print(\"RMSE:\", rmse)\n",
    "print(\"R-squared:\", r2)"
   ]
  },
  {
   "cell_type": "markdown",
   "id": "ff6e9941-07d0-4518-a548-77300bbdf3ce",
   "metadata": {},
   "source": [
    "7.5 Fit and test SGDRegression using Early Stopping"
   ]
  },
  {
   "cell_type": "code",
   "execution_count": 21,
   "id": "08b1d7fd-a3a0-4b91-a69c-4af18fd6dd56",
   "metadata": {},
   "outputs": [
    {
     "name": "stdout",
     "output_type": "stream",
     "text": [
      "MSE: 45326063272.027756\n",
      "RMSE: 212899.18570071552\n",
      "R-squared: 0.7001782708766905\n"
     ]
    },
    {
     "name": "stderr",
     "output_type": "stream",
     "text": [
      "C:\\Users\\User\\anaconda3\\lib\\site-packages\\sklearn\\utils\\validation.py:993: DataConversionWarning: A column-vector y was passed when a 1d array was expected. Please change the shape of y to (n_samples, ), for example using ravel().\n",
      "  y = column_or_1d(y, warn=True)\n"
     ]
    }
   ],
   "source": [
    "# create an instance of the SGDRegressor with Elastic Net regularization:\n",
    "reg = SGDRegressor(max_iter=1000, tol=1e-3, early_stopping=True, validation_fraction=0.1, n_iter_no_change=5, random_state=42)\n",
    "\n",
    "# fit the model on the training data\n",
    "reg.fit(X_train, y_train)\n",
    "\n",
    "# make predictions on the test data\n",
    "y_pred = reg.predict(X_test)\n",
    "\n",
    "# evaluate the model using MSE, RMSE and R-squared metrics\n",
    "mse = mean_squared_error(y_test, y_pred)\n",
    "rmse = mean_squared_error(y_test, y_pred, squared=False)\n",
    "r2 = r2_score(y_test, y_pred)\n",
    "\n",
    "print('MSE:', mse)\n",
    "print(\"RMSE:\", rmse)\n",
    "print(\"R-squared:\", r2)"
   ]
  },
  {
   "cell_type": "markdown",
   "id": "323f2856-9544-47b2-9128-37c1440a0f55",
   "metadata": {},
   "source": [
    "# 8.0 Polynomial Regression"
   ]
  },
  {
   "cell_type": "markdown",
   "id": "3a646b52-fc0a-4ac0-be36-34a9800dd770",
   "metadata": {},
   "source": [
    "8.1 Fit and test a polynomial Regression Using Stochastic Gradient Descent"
   ]
  },
  {
   "cell_type": "code",
   "execution_count": 22,
   "id": "6bc54a0d-fc99-436e-8e9c-c4a27fd151a9",
   "metadata": {},
   "outputs": [
    {
     "name": "stdout",
     "output_type": "stream",
     "text": [
      "MSE: 1.6878132959399367e+25\n",
      "RMSE: 4108300495265.5747\n",
      "R-squared: -111645059000373.33\n"
     ]
    },
    {
     "name": "stderr",
     "output_type": "stream",
     "text": [
      "C:\\Users\\User\\anaconda3\\lib\\site-packages\\sklearn\\utils\\validation.py:993: DataConversionWarning: A column-vector y was passed when a 1d array was expected. Please change the shape of y to (n_samples, ), for example using ravel().\n",
      "  y = column_or_1d(y, warn=True)\n"
     ]
    }
   ],
   "source": [
    "#Create a pipeline with PolynomialFeatures and SGDRegressor\n",
    "pipeline = make_pipeline(PolynomialFeatures(degree=2, include_bias=False), SGDRegressor(random_state=42))\n",
    "\n",
    "#Fit the model on the training set\n",
    "pipeline.fit(X_train, y_train)\n",
    "\n",
    "#Make predictions on the testing set\n",
    "y_pred = pipeline.predict(X_test)\n",
    "\n",
    "# evaluate the model using MSE, RMSE and R-squared metrics\n",
    "mse = mean_squared_error(y_test, y_pred)\n",
    "rmse = mean_squared_error(y_test, y_pred, squared=False)\n",
    "r2 = r2_score(y_test, y_pred)\n",
    "\n",
    "print('MSE:', mse)\n",
    "print(\"RMSE:\", rmse)\n",
    "print(\"R-squared:\", r2)"
   ]
  },
  {
   "cell_type": "markdown",
   "id": "7c499b29-a63e-42fb-a650-287c168fad23",
   "metadata": {},
   "source": [
    "8.2 Fit and test a polynomial Regression Using using L2 Regularization"
   ]
  },
  {
   "cell_type": "code",
   "execution_count": 23,
   "id": "d8419dc2-2e98-41d0-a0c4-7d1947ac3753",
   "metadata": {},
   "outputs": [
    {
     "name": "stdout",
     "output_type": "stream",
     "text": [
      "MSE: 1.5006435785918402e+25\n",
      "RMSE: 3873814113495.6904\n",
      "R-squared: -99264202547424.02\n"
     ]
    },
    {
     "name": "stderr",
     "output_type": "stream",
     "text": [
      "C:\\Users\\User\\anaconda3\\lib\\site-packages\\sklearn\\utils\\validation.py:993: DataConversionWarning: A column-vector y was passed when a 1d array was expected. Please change the shape of y to (n_samples, ), for example using ravel().\n",
      "  y = column_or_1d(y, warn=True)\n"
     ]
    }
   ],
   "source": [
    "#Create a pipeline with PolynomialFeatures and SGDRegressor\n",
    "poly = PolynomialFeatures(degree=2, include_bias=False)\n",
    "sgd_reg = SGDRegressor(penalty='l2', alpha=0.01, random_state=42)\n",
    "pipeline = make_pipeline(poly, sgd_reg)\n",
    "\n",
    "#Fit the model on the training set\n",
    "pipeline.fit(X_train, y_train)\n",
    "\n",
    "#Make predictions on the testing set\n",
    "y_pred = pipeline.predict(X_test)\n",
    "\n",
    "# evaluate the model using MSE, RMSE and R-squared metrics\n",
    "mse = mean_squared_error(y_test, y_pred)\n",
    "rmse = mean_squared_error(y_test, y_pred, squared=False)\n",
    "r2 = r2_score(y_test, y_pred)\n",
    "\n",
    "print('MSE:', mse)\n",
    "print(\"RMSE:\", rmse)\n",
    "print(\"R-squared:\", r2)"
   ]
  },
  {
   "cell_type": "markdown",
   "id": "12e18a46-1281-47fd-ae6b-fcdf0ae12fe2",
   "metadata": {},
   "source": [
    "8.3 Fit and test a polynomial Regression Using using L1 Regularization"
   ]
  },
  {
   "cell_type": "code",
   "execution_count": 24,
   "id": "3dbd0cc8-5dd4-475c-8785-d30e2f035bb0",
   "metadata": {},
   "outputs": [
    {
     "name": "stderr",
     "output_type": "stream",
     "text": [
      "C:\\Users\\User\\anaconda3\\lib\\site-packages\\sklearn\\utils\\validation.py:993: DataConversionWarning: A column-vector y was passed when a 1d array was expected. Please change the shape of y to (n_samples, ), for example using ravel().\n",
      "  y = column_or_1d(y, warn=True)\n"
     ]
    },
    {
     "name": "stdout",
     "output_type": "stream",
     "text": [
      "MSE: 1.2529455728353555e+25\n",
      "RMSE: 3539697123816.3237\n",
      "R-squared: -82879535751943.39\n"
     ]
    }
   ],
   "source": [
    "poly = PolynomialFeatures(degree=2, include_bias=False)\n",
    "sgd_reg = SGDRegressor(penalty='l1', alpha=0.01, random_state=42)\n",
    "pipeline = make_pipeline(poly, sgd_reg)\n",
    "\n",
    "#Fit the model on the training set\n",
    "pipeline.fit(X_train, y_train)\n",
    "\n",
    "#Make predictions on the testing set\n",
    "y_pred = pipeline.predict(X_test)\n",
    "\n",
    "# evaluate the model using MSE, RMSE and R-squared metrics\n",
    "mse = mean_squared_error(y_test, y_pred)\n",
    "rmse = mean_squared_error(y_test, y_pred, squared=False)\n",
    "r2 = r2_score(y_test, y_pred)\n",
    "\n",
    "print('MSE:', mse)\n",
    "print(\"RMSE:\", rmse)\n",
    "print(\"R-squared:\", r2)"
   ]
  },
  {
   "cell_type": "markdown",
   "id": "8f941fd6-b064-4ac7-8a7a-df72003658f8",
   "metadata": {},
   "source": [
    "8.4 Fit and test SGDRegression using ElasticNet Regularization"
   ]
  },
  {
   "cell_type": "code",
   "execution_count": 25,
   "id": "259ea7b8-27d2-4399-83dc-eaf6f072e9ee",
   "metadata": {},
   "outputs": [
    {
     "name": "stdout",
     "output_type": "stream",
     "text": [
      "MSE: 1.0296670844118014e+24\n",
      "RMSE: 1014725127515.7235\n",
      "R-squared: -6811016518616.939\n"
     ]
    },
    {
     "name": "stderr",
     "output_type": "stream",
     "text": [
      "C:\\Users\\User\\anaconda3\\lib\\site-packages\\sklearn\\utils\\validation.py:993: DataConversionWarning: A column-vector y was passed when a 1d array was expected. Please change the shape of y to (n_samples, ), for example using ravel().\n",
      "  y = column_or_1d(y, warn=True)\n"
     ]
    }
   ],
   "source": [
    "poly = PolynomialFeatures(degree=2, include_bias=False)\n",
    "sgd_reg = SGDRegressor(penalty='elasticnet', alpha=0.01, random_state=42)\n",
    "pipeline = make_pipeline(poly, sgd_reg)\n",
    "\n",
    "#Fit the model on the training set\n",
    "pipeline.fit(X_train, y_train)\n",
    "\n",
    "#Make predictions on the testing set\n",
    "y_pred = pipeline.predict(X_test)\n",
    "\n",
    "# evaluate the model using MSE, RMSE and R-squared metrics\n",
    "mse = mean_squared_error(y_test, y_pred)\n",
    "rmse = mean_squared_error(y_test, y_pred, squared=False)\n",
    "r2 = r2_score(y_test, y_pred)\n",
    "\n",
    "print('MSE:', mse)\n",
    "print(\"RMSE:\", rmse)\n",
    "print(\"R-squared:\", r2)"
   ]
  },
  {
   "cell_type": "markdown",
   "id": "06eb772f-bb7d-4640-a6ea-11c68353b034",
   "metadata": {},
   "source": [
    "8.5 Fit and test SGDRegression using Early Stopping"
   ]
  },
  {
   "cell_type": "code",
   "execution_count": 26,
   "id": "5a3f0f58-d38c-4c96-a778-2def2c354690",
   "metadata": {},
   "outputs": [
    {
     "name": "stdout",
     "output_type": "stream",
     "text": [
      "MSE: 46348214716.046524\n",
      "RMSE: 215286.3551552827\n",
      "R-squared: 0.6934169686313945\n"
     ]
    },
    {
     "name": "stderr",
     "output_type": "stream",
     "text": [
      "C:\\Users\\User\\anaconda3\\lib\\site-packages\\sklearn\\utils\\validation.py:993: DataConversionWarning: A column-vector y was passed when a 1d array was expected. Please change the shape of y to (n_samples, ), for example using ravel().\n",
      "  y = column_or_1d(y, warn=True)\n"
     ]
    }
   ],
   "source": [
    "pipeline = SGDRegressor(alpha=0.01, max_iter=1000, tol=1e-3, early_stopping=True, \n",
    "                     validation_fraction=0.2, n_iter_no_change=10, random_state=42)\n",
    "\n",
    "#Fit the model on the training set\n",
    "pipeline.fit(X_train, y_train)\n",
    "\n",
    "#Make predictions on the testing set\n",
    "y_pred = pipeline.predict(X_test)\n",
    "\n",
    "# evaluate the model using MSE, RMSE and R-squared metrics\n",
    "mse = mean_squared_error(y_test, y_pred)\n",
    "rmse = mean_squared_error(y_test, y_pred, squared=False)\n",
    "r2 = r2_score(y_test, y_pred)\n",
    "\n",
    "print('MSE:', mse)\n",
    "print(\"RMSE:\", rmse)\n",
    "print(\"R-squared:\", r2)"
   ]
  },
  {
   "cell_type": "markdown",
   "id": "9bccb9d1-bf08-4c9a-ac5b-25cd58e43d6b",
   "metadata": {},
   "source": [
    "### On comparing with all the predected models I suggest SGDRegressor with Elastic Net regularization is the best model with RMSE: 212899.18570071552 and R-squared: 0.7001782708766905"
   ]
  },
  {
   "cell_type": "code",
   "execution_count": null,
   "id": "e525f242-f706-45f0-b787-bcccd26843ef",
   "metadata": {},
   "outputs": [],
   "source": []
  },
  {
   "cell_type": "code",
   "execution_count": null,
   "id": "faa70321-c1c7-456c-9b50-20b8cb8dca7b",
   "metadata": {},
   "outputs": [],
   "source": []
  }
 ],
 "metadata": {
  "kernelspec": {
   "display_name": "Python 3 (ipykernel)",
   "language": "python",
   "name": "python3"
  },
  "language_info": {
   "codemirror_mode": {
    "name": "ipython",
    "version": 3
   },
   "file_extension": ".py",
   "mimetype": "text/x-python",
   "name": "python",
   "nbconvert_exporter": "python",
   "pygments_lexer": "ipython3",
   "version": "3.9.12"
  }
 },
 "nbformat": 4,
 "nbformat_minor": 5
}
